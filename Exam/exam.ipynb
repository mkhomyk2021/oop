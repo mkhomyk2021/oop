{
 "cells": [
  {
   "cell_type": "markdown",
   "metadata": {},
   "source": [
    " Створити клас з приватним методом"
   ]
  },
  {
   "cell_type": "code",
   "execution_count": 5,
   "metadata": {},
   "outputs": [
    {
     "name": "stdout",
     "output_type": "stream",
     "text": [
      "Привіт, Максим!\n"
     ]
    }
   ],
   "source": [
    "class PrivateMethodExample:\n",
    "    def __init__(self, name):\n",
    "        self.name = name  # Публічний атрибут\n",
    "\n",
    "    def greet(self):\n",
    "        \"\"\"Публічний метод, який викликає приватний метод.\"\"\"\n",
    "        return self.__create_greeting()\n",
    "\n",
    "    def __create_greeting(self):\n",
    "        \"\"\"Приватний метод, який створює привітання.\"\"\"\n",
    "        return f\"Привіт, {self.name}!\"\n",
    "\n",
    "# Створення об'єкта класу\n",
    "example = PrivateMethodExample(\"Максим\")\n",
    "\n",
    "# Використання публічного методу\n",
    "print(example.greet()) \n",
    "\n",
    "# Спроба викликати приватний метод напряму (це викличе помилку)\n",
    "# print(example.__create_greeting())  # AttributeError\n"
   ]
  }
 ],
 "metadata": {
  "kernelspec": {
   "display_name": "Python 3",
   "language": "python",
   "name": "python3"
  },
  "language_info": {
   "codemirror_mode": {
    "name": "ipython",
    "version": 3
   },
   "file_extension": ".py",
   "mimetype": "text/x-python",
   "name": "python",
   "nbconvert_exporter": "python",
   "pygments_lexer": "ipython3",
   "version": "3.13.0"
  }
 },
 "nbformat": 4,
 "nbformat_minor": 2
}
