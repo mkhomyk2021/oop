{
 "cells": [
  {
   "cell_type": "code",
   "execution_count": 1,
   "metadata": {},
   "outputs": [
    {
     "name": "stdout",
     "output_type": "stream",
     "text": [
      "Сьогодні: Friday, Сьогодні робочий день.\n"
     ]
    }
   ],
   "source": [
    "from datetime import date\n",
    "\n",
    "# Отримати поточну дату\n",
    "today = date.today()\n",
    "day_of_week = today.weekday()  # 0 - понеділок, 6 - неділя\n",
    "\n",
    "# Визначення статусу дня\n",
    "if day_of_week >= 5:  # 5 - субота, 6 - неділя\n",
    "    status = \"Сьогодні вихідний!\"\n",
    "else:\n",
    "    status = \"Сьогодні робочий день.\"\n",
    "\n",
    "# Вивід результатів\n",
    "print(f\"Сьогодні: {today.strftime('%A')}, {status}\")\n",
    "\n"
   ]
  },
  {
   "cell_type": "markdown",
   "metadata": {},
   "source": [
    "## Моя перша програма\n"
   ]
  }
 ],
 "metadata": {
  "kernelspec": {
   "display_name": "Python 3",
   "language": "python",
   "name": "python3"
  },
  "language_info": {
   "codemirror_mode": {
    "name": "ipython",
    "version": 3
   },
   "file_extension": ".py",
   "mimetype": "text/x-python",
   "name": "python",
   "nbconvert_exporter": "python",
   "pygments_lexer": "ipython3",
   "version": "3.13.0"
  }
 },
 "nbformat": 4,
 "nbformat_minor": 2
}
